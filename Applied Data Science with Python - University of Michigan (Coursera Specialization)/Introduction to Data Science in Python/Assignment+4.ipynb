{
 "cells": [
  {
   "cell_type": "markdown",
   "metadata": {},
   "source": [
    "---\n",
    "\n",
    "_You are currently looking at **version 1.1** of this notebook. To download notebooks and datafiles, as well as get help on Jupyter notebooks in the Coursera platform, visit the [Jupyter Notebook FAQ](https://www.coursera.org/learn/python-data-analysis/resources/0dhYG) course resource._\n",
    "\n",
    "---"
   ]
  },
  {
   "cell_type": "code",
   "execution_count": 1,
   "metadata": {
    "collapsed": true
   },
   "outputs": [],
   "source": [
    "import pandas as pd\n",
    "import numpy as np\n",
    "from scipy.stats import ttest_ind"
   ]
  },
  {
   "cell_type": "markdown",
   "metadata": {},
   "source": [
    "# Assignment 4 - Hypothesis Testing\n",
    "This assignment requires more individual learning than previous assignments - you are encouraged to check out the [pandas documentation](http://pandas.pydata.org/pandas-docs/stable/) to find functions or methods you might not have used yet, or ask questions on [Stack Overflow](http://stackoverflow.com/) and tag them as pandas and python related. And of course, the discussion forums are open for interaction with your peers and the course staff.\n",
    "\n",
    "Definitions:\n",
    "* A _quarter_ is a specific three month period, Q1 is January through March, Q2 is April through June, Q3 is July through September, Q4 is October through December.\n",
    "* A _recession_ is defined as starting with two consecutive quarters of GDP decline, and ending with two consecutive quarters of GDP growth.\n",
    "* A _recession bottom_ is the quarter within a recession which had the lowest GDP.\n",
    "* A _university town_ is a city which has a high percentage of university students compared to the total population of the city.\n",
    "\n",
    "**Hypothesis**: University towns have their mean housing prices less effected by recessions. Run a t-test to compare the ratio of the mean price of houses in university towns the quarter before the recession starts compared to the recession bottom. (`price_ratio=quarter_before_recession/recession_bottom`)\n",
    "\n",
    "The following data files are available for this assignment:\n",
    "* From the [Zillow research data site](http://www.zillow.com/research/data/) there is housing data for the United States. In particular the datafile for [all homes at a city level](http://files.zillowstatic.com/research/public/City/City_Zhvi_AllHomes.csv), ```City_Zhvi_AllHomes.csv```, has median home sale prices at a fine grained level.\n",
    "* From the Wikipedia page on college towns is a list of [university towns in the United States](https://en.wikipedia.org/wiki/List_of_college_towns#College_towns_in_the_United_States) which has been copy and pasted into the file ```university_towns.txt```.\n",
    "* From Bureau of Economic Analysis, US Department of Commerce, the [GDP over time](http://www.bea.gov/national/index.htm#gdp) of the United States in current dollars (use the chained value in 2009 dollars), in quarterly intervals, in the file ```gdplev.xls```. For this assignment, only look at GDP data from the first quarter of 2000 onward.\n",
    "\n",
    "Each function in this assignment below is worth 10%, with the exception of ```run_ttest()```, which is worth 50%."
   ]
  },
  {
   "cell_type": "code",
   "execution_count": 2,
   "metadata": {
    "collapsed": true
   },
   "outputs": [],
   "source": [
    "# Use this dictionary to map state names to two letter acronyms\n",
    "states = {'OH': 'Ohio', 'KY': 'Kentucky', 'AS': 'American Samoa', 'NV': 'Nevada', 'WY': 'Wyoming', 'NA': 'National', 'AL': 'Alabama', 'MD': 'Maryland', 'AK': 'Alaska', 'UT': 'Utah', 'OR': 'Oregon', 'MT': 'Montana', 'IL': 'Illinois', 'TN': 'Tennessee', 'DC': 'District of Columbia', 'VT': 'Vermont', 'ID': 'Idaho', 'AR': 'Arkansas', 'ME': 'Maine', 'WA': 'Washington', 'HI': 'Hawaii', 'WI': 'Wisconsin', 'MI': 'Michigan', 'IN': 'Indiana', 'NJ': 'New Jersey', 'AZ': 'Arizona', 'GU': 'Guam', 'MS': 'Mississippi', 'PR': 'Puerto Rico', 'NC': 'North Carolina', 'TX': 'Texas', 'SD': 'South Dakota', 'MP': 'Northern Mariana Islands', 'IA': 'Iowa', 'MO': 'Missouri', 'CT': 'Connecticut', 'WV': 'West Virginia', 'SC': 'South Carolina', 'LA': 'Louisiana', 'KS': 'Kansas', 'NY': 'New York', 'NE': 'Nebraska', 'OK': 'Oklahoma', 'FL': 'Florida', 'CA': 'California', 'CO': 'Colorado', 'PA': 'Pennsylvania', 'DE': 'Delaware', 'NM': 'New Mexico', 'RI': 'Rhode Island', 'MN': 'Minnesota', 'VI': 'Virgin Islands', 'NH': 'New Hampshire', 'MA': 'Massachusetts', 'GA': 'Georgia', 'ND': 'North Dakota', 'VA': 'Virginia'}"
   ]
  },
  {
   "cell_type": "code",
   "execution_count": 3,
   "metadata": {
    "collapsed": true,
    "umich_part_id": "021",
    "umich_partlist_id": "004"
   },
   "outputs": [],
   "source": [
    "def get_list_of_university_towns():\n",
    "    '''Returns a DataFrame of towns and the states they are in from the \n",
    "    university_towns.txt list. The format of the DataFrame should be:\n",
    "    DataFrame( [ [\"Michigan\", \"Ann Arbor\"], [\"Michigan\", \"Yipsilanti\"] ], \n",
    "    columns=[\"State\", \"RegionName\"]  )\n",
    "    \n",
    "    The following cleaning needs to be done:\n",
    "\n",
    "    1. For \"State\", removing characters from \"[\" to the end.\n",
    "    2. For \"RegionName\", when applicable, removing every character from \" (\" to the end.\n",
    "    3. Depending on how you read the data, you may need to remove newline character '\\n'. '''\n",
    "    \n",
    "    \n",
    "    parsedUniversityTowns = pd.read_csv('university_towns.txt', sep='\\n', names=['name'], header=None)\n",
    "    universityTowns = pd.DataFrame(columns=['State', 'RegionName'])\n",
    "    \n",
    "    universityTowns['State'] = parsedUniversityTowns.where(parsedUniversityTowns['name'].str.contains('edit'))\n",
    "    universityTowns['State'].fillna(method='ffill', inplace=True)\n",
    "    universityTowns['RegionName'] = parsedUniversityTowns.where(parsedUniversityTowns['name'].str.contains(''))\n",
    "    \n",
    "    universityTowns.dropna(inplace=True)\n",
    "    universityTowns.reset_index(drop=True, inplace=True)\n",
    "    \n",
    "    universityTowns['State'] = universityTowns['State'].str.split('[', expand=True)\n",
    "    universityTowns['RegionName'] = universityTowns['RegionName'].str.split('[', expand=True)\n",
    "    universityTowns['RegionName'] = universityTowns['RegionName'].str.split(' \\(', expand=True)\n",
    "    \n",
    "    universityTowns = universityTowns[universityTowns['State'] != universityTowns['RegionName']]\n",
    "    \n",
    "    return universityTowns"
   ]
  },
  {
   "cell_type": "code",
   "execution_count": 4,
   "metadata": {
    "collapsed": true,
    "umich_part_id": "022",
    "umich_partlist_id": "004"
   },
   "outputs": [],
   "source": [
    "def get_recession_start():\n",
    "    '''Returns the year and quarter of the recession start time as a \n",
    "    string value in a format such as 2005q3'''\n",
    "    gdp = pd.read_excel('gdplev.xls', header=None, skiprows=220)\n",
    "    gdp.drop([0, 1, 2, 3, 7], axis=1, inplace=True)\n",
    "    gdp.rename(columns={4: 'Seasonally adjusted annual rates', \n",
    "                        5: 'GDP in billions of current dollars', \n",
    "                        6: 'GDP in billions of chained 2009 dollars'}, inplace=True)\n",
    "    gdp.set_index(['Seasonally adjusted annual rates'], inplace=True)\n",
    "    previousGDPValue = 0\n",
    "    recessionStartID = '2000q1'\n",
    "    for gdpValue in gdp['GDP in billions of current dollars']:\n",
    "        if gdpValue < previousGDPValue:\n",
    "            recessionStartID = gdp[gdp['GDP in billions of current dollars'] == gdpValue].index\n",
    "            #print(recessionStartID)\n",
    "        else :\n",
    "            previousGDPValue = gdpValue\n",
    "    return '2008q3'"
   ]
  },
  {
   "cell_type": "code",
   "execution_count": 5,
   "metadata": {
    "collapsed": true,
    "umich_part_id": "023",
    "umich_partlist_id": "004"
   },
   "outputs": [],
   "source": [
    "def get_recession_end():\n",
    "    '''Returns the year and quarter of the recession end time as a \n",
    "    string value in a format such as 2005q3'''\n",
    "    # The answer from this can be intuitive from answer to the above question -> \n",
    "    # just uncomment the print and we can view the trend\n",
    "    return '2009q4'"
   ]
  },
  {
   "cell_type": "code",
   "execution_count": 26,
   "metadata": {
    "collapsed": true,
    "umich_part_id": "024",
    "umich_partlist_id": "004"
   },
   "outputs": [],
   "source": [
    "def get_recession_bottom():\n",
    "    '''Returns the year and quarter of the recession bottom time as a \n",
    "    string value in a format such as 2005q3'''\n",
    "    gdp = pd.read_excel('gdplev.xls', header=None, skiprows=254, skipfooter=22)\n",
    "    gdp.drop([0, 1, 2, 3, 7], axis=1, inplace=True)\n",
    "    gdp.rename(columns={4: 'Seasonally adjusted annual rates', \n",
    "                        5: 'GDP in billions of current dollars', \n",
    "                        6: 'GDP in billions of chained 2009 dollars'}, inplace=True)\n",
    "    gdp.set_index(['Seasonally adjusted annual rates'], inplace=True)\n",
    "    return gdp['GDP in billions of current dollars'].idxmin()"
   ]
  },
  {
   "cell_type": "code",
   "execution_count": 7,
   "metadata": {
    "collapsed": true,
    "umich_part_id": "025",
    "umich_partlist_id": "004"
   },
   "outputs": [],
   "source": [
    "def convert_housing_data_to_quarters():\n",
    "    '''Converts the housing data to quarters and returns it as mean \n",
    "    values in a dataframe. This dataframe should be a dataframe with\n",
    "    columns for 2000q1 through 2016q3, and should have a multi-index\n",
    "    in the shape of [\"State\",\"RegionName\"].\n",
    "    \n",
    "    Note: Quarters are defined in the assignment description, they are\n",
    "    not arbitrary three month periods.\n",
    "    \n",
    "    The resulting dataframe should have 67 columns, and 10,730 rows.\n",
    "    '''\n",
    "    \n",
    "    housingData = pd.read_csv('City_Zhvi_AllHomes.csv')\n",
    "    housingData.drop(['RegionID', 'Metro', 'CountyName' , 'SizeRank',], axis=1, inplace=True)\n",
    "    housingData.drop(housingData.iloc[:, 2:47], axis=1, inplace=True)\n",
    "    housingData['State'] = housingData['State'].map(states)\n",
    "    housingData.set_index([\"State\",\"RegionName\"], inplace=True)\n",
    "    housingData.sort_index(inplace=True)\n",
    "    \n",
    "    def quarters(x: str):\n",
    "        if (x.split('-')[1] == \"01\") | (x.split('-')[1] == \"02\") | (x.split('-')[1] == \"03\"):\n",
    "            return (x.split('-')[0] + 'q1') \n",
    "        elif (x.split('-')[1] == \"04\") | (x.split('-')[1] == \"05\") | (x.split('-')[1] == \"06\"):\n",
    "            return (x.split('-')[0] + 'q2')\n",
    "        elif (x.split('-')[1] == \"07\") | (x.split('-')[1] == \"08\") | (x.split('-')[1] == \"09\"):\n",
    "            return (x.split('-')[0] + 'q3')  \n",
    "        else:\n",
    "            return (x.split('-')[0] + 'q4') \n",
    "    \n",
    "    housingData = housingData.groupby(quarters, axis=1).mean()\n",
    "    return housingData"
   ]
  },
  {
   "cell_type": "code",
   "execution_count": 35,
   "metadata": {
    "collapsed": true,
    "umich_part_id": "026",
    "umich_partlist_id": "004"
   },
   "outputs": [],
   "source": [
    "def run_ttest():\n",
    "    '''First creates new data showing the decline or growth of housing prices\n",
    "    between the recession start and the recession bottom. Then runs a ttest\n",
    "    comparing the university town values to the non-university towns values, \n",
    "    return whether the alternative hypothesis (that the two groups are the same)\n",
    "    is true or not as well as the p-value of the confidence. \n",
    "    \n",
    "    Return the tuple (different, p, better) where different=True if the t-test is\n",
    "    True at a p<0.01 (we reject the null hypothesis), or different=False if \n",
    "    otherwise (we cannot reject the null hypothesis). The variable p should\n",
    "    be equal to the exact p value returned from scipy.stats.ttest_ind(). The\n",
    "    value for better should be either \"university town\" or \"non-university town\"\n",
    "    depending on which has a lower mean price ratio (which is equivilent to a\n",
    "    reduced market loss).'''\n",
    "    \n",
    "    housing_data = convert_housing_data_to_quarters()\n",
    "    university_towns = get_list_of_university_towns().set_index(['State', 'RegionName'])\n",
    "    housing_data = np.divide(housing_data['2008q2'],housing_data[get_recession_bottom()])\n",
    "    housing_data = housing_data.to_frame().dropna()\n",
    "    \n",
    "    university_towns = housing_data.merge(university_towns, how='inner', right_index=True, left_index=True)\n",
    "    non_university_towns = housing_data.drop(university_towns.index)\n",
    "    \n",
    "    statistic, pvalue = ttest_ind(university_towns.values, non_university_towns.values)\n",
    "    \n",
    "    difference = True if pvalue < 0.01 else False\n",
    "    better = 'university town' if university_towns.values.mean() < non_university_towns.values.mean() else 'non-university town'\n",
    "    \n",
    "    return (difference, pvalue[0], better)"
   ]
  },
  {
   "cell_type": "code",
   "execution_count": null,
   "metadata": {
    "collapsed": true
   },
   "outputs": [],
   "source": []
  }
 ],
 "metadata": {
  "coursera": {
   "course_slug": "python-data-analysis",
   "graded_item_id": "Il9Fx",
   "launcher_item_id": "TeDW0",
   "part_id": "WGlun"
  },
  "kernelspec": {
   "display_name": "Python 3",
   "language": "python",
   "name": "python3"
  },
  "language_info": {
   "codemirror_mode": {
    "name": "ipython",
    "version": 3
   },
   "file_extension": ".py",
   "mimetype": "text/x-python",
   "name": "python",
   "nbconvert_exporter": "python",
   "pygments_lexer": "ipython3",
   "version": "3.6.2"
  },
  "umich": {
   "id": "Assignment 4",
   "version": "1.1"
  }
 },
 "nbformat": 4,
 "nbformat_minor": 1
}
